{
 "cells": [
  {
   "attachments": {},
   "cell_type": "markdown",
   "metadata": {},
   "source": [
    "# Project 1 - RL For Atari Breakout Game\n",
    "Train a Reinforcement Learning agent to play Atari games.\n",
    "- https://www.gymlibrary.dev/environments/atari/"
   ]
  },
  {
   "cell_type": "markdown",
   "metadata": {},
   "source": [
    "## 1. Import Dependencies"
   ]
  },
  {
   "cell_type": "code",
   "execution_count": 1,
   "metadata": {},
   "outputs": [],
   "source": [
    "import gym\n",
    "from stable_baselines3 import A2C\n",
    "from stable_baselines3.common.vec_env import VecFrameStack   # train on more than one env a time\n",
    "from stable_baselines3.common.evaluation import evaluate_policy\n",
    "from stable_baselines3.common.env_util import make_atari_env\n",
    "import os"
   ]
  },
  {
   "attachments": {},
   "cell_type": "markdown",
   "metadata": {},
   "source": [
    "## 2. Test Environment"
   ]
  },
  {
   "cell_type": "code",
   "execution_count": 2,
   "metadata": {},
   "outputs": [],
   "source": [
    "# Download this file here - http://www.atarimania.com/roms/Roms.rar"
   ]
  },
  {
   "cell_type": "code",
   "execution_count": 3,
   "metadata": {},
   "outputs": [
    {
     "data": {
      "text/plain": [
       "array([[[0, 0, 0],\n",
       "        [0, 0, 0],\n",
       "        [0, 0, 0],\n",
       "        ...,\n",
       "        [0, 0, 0],\n",
       "        [0, 0, 0],\n",
       "        [0, 0, 0]],\n",
       "\n",
       "       [[0, 0, 0],\n",
       "        [0, 0, 0],\n",
       "        [0, 0, 0],\n",
       "        ...,\n",
       "        [0, 0, 0],\n",
       "        [0, 0, 0],\n",
       "        [0, 0, 0]],\n",
       "\n",
       "       [[0, 0, 0],\n",
       "        [0, 0, 0],\n",
       "        [0, 0, 0],\n",
       "        ...,\n",
       "        [0, 0, 0],\n",
       "        [0, 0, 0],\n",
       "        [0, 0, 0]],\n",
       "\n",
       "       ...,\n",
       "\n",
       "       [[0, 0, 0],\n",
       "        [0, 0, 0],\n",
       "        [0, 0, 0],\n",
       "        ...,\n",
       "        [0, 0, 0],\n",
       "        [0, 0, 0],\n",
       "        [0, 0, 0]],\n",
       "\n",
       "       [[0, 0, 0],\n",
       "        [0, 0, 0],\n",
       "        [0, 0, 0],\n",
       "        ...,\n",
       "        [0, 0, 0],\n",
       "        [0, 0, 0],\n",
       "        [0, 0, 0]],\n",
       "\n",
       "       [[0, 0, 0],\n",
       "        [0, 0, 0],\n",
       "        [0, 0, 0],\n",
       "        ...,\n",
       "        [0, 0, 0],\n",
       "        [0, 0, 0],\n",
       "        [0, 0, 0]]], dtype=uint8)"
      ]
     },
     "execution_count": 3,
     "metadata": {},
     "output_type": "execute_result"
    }
   ],
   "source": [
    "environment_name = \"Breakout-v0\"\n",
    "env = gym.make(environment_name)\n",
    "env.reset()"
   ]
  },
  {
   "cell_type": "code",
   "execution_count": 4,
   "metadata": {},
   "outputs": [
    {
     "data": {
      "text/plain": [
       "(Discrete(4),\n",
       " Box([[[0 0 0]\n",
       "   [0 0 0]\n",
       "   [0 0 0]\n",
       "   ...\n",
       "   [0 0 0]\n",
       "   [0 0 0]\n",
       "   [0 0 0]]\n",
       " \n",
       "  [[0 0 0]\n",
       "   [0 0 0]\n",
       "   [0 0 0]\n",
       "   ...\n",
       "   [0 0 0]\n",
       "   [0 0 0]\n",
       "   [0 0 0]]\n",
       " \n",
       "  [[0 0 0]\n",
       "   [0 0 0]\n",
       "   [0 0 0]\n",
       "   ...\n",
       "   [0 0 0]\n",
       "   [0 0 0]\n",
       "   [0 0 0]]\n",
       " \n",
       "  ...\n",
       " \n",
       "  [[0 0 0]\n",
       "   [0 0 0]\n",
       "   [0 0 0]\n",
       "   ...\n",
       "   [0 0 0]\n",
       "   [0 0 0]\n",
       "   [0 0 0]]\n",
       " \n",
       "  [[0 0 0]\n",
       "   [0 0 0]\n",
       "   [0 0 0]\n",
       "   ...\n",
       "   [0 0 0]\n",
       "   [0 0 0]\n",
       "   [0 0 0]]\n",
       " \n",
       "  [[0 0 0]\n",
       "   [0 0 0]\n",
       "   [0 0 0]\n",
       "   ...\n",
       "   [0 0 0]\n",
       "   [0 0 0]\n",
       "   [0 0 0]]], [[[255 255 255]\n",
       "   [255 255 255]\n",
       "   [255 255 255]\n",
       "   ...\n",
       "   [255 255 255]\n",
       "   [255 255 255]\n",
       "   [255 255 255]]\n",
       " \n",
       "  [[255 255 255]\n",
       "   [255 255 255]\n",
       "   [255 255 255]\n",
       "   ...\n",
       "   [255 255 255]\n",
       "   [255 255 255]\n",
       "   [255 255 255]]\n",
       " \n",
       "  [[255 255 255]\n",
       "   [255 255 255]\n",
       "   [255 255 255]\n",
       "   ...\n",
       "   [255 255 255]\n",
       "   [255 255 255]\n",
       "   [255 255 255]]\n",
       " \n",
       "  ...\n",
       " \n",
       "  [[255 255 255]\n",
       "   [255 255 255]\n",
       "   [255 255 255]\n",
       "   ...\n",
       "   [255 255 255]\n",
       "   [255 255 255]\n",
       "   [255 255 255]]\n",
       " \n",
       "  [[255 255 255]\n",
       "   [255 255 255]\n",
       "   [255 255 255]\n",
       "   ...\n",
       "   [255 255 255]\n",
       "   [255 255 255]\n",
       "   [255 255 255]]\n",
       " \n",
       "  [[255 255 255]\n",
       "   [255 255 255]\n",
       "   [255 255 255]\n",
       "   ...\n",
       "   [255 255 255]\n",
       "   [255 255 255]\n",
       "   [255 255 255]]], (210, 160, 3), uint8))"
      ]
     },
     "execution_count": 4,
     "metadata": {},
     "output_type": "execute_result"
    }
   ],
   "source": [
    "env.action_space,env.observation_space"
   ]
  },
  {
   "cell_type": "code",
   "execution_count": 5,
   "metadata": {},
   "outputs": [
    {
     "name": "stderr",
     "output_type": "stream",
     "text": [
      "d:\\Src\\Anaconda\\lib\\site-packages\\gym\\envs\\atari\\environment.py:267: UserWarning: \u001b[33mWARN: We strongly suggest supplying `render_mode` when constructing your environment, e.g., gym.make(ID, render_mode='human'). Using `render_mode` provides access to proper scaling, audio support, and proper framerates.\u001b[0m\n",
      "  logger.warn(\n",
      "d:\\Src\\Anaconda\\lib\\site-packages\\pyglet\\image\\codecs\\wic.py:406: UserWarning: [WinError -2147417850] Cannot change thread mode after it is set\n",
      "  warnings.warn(str(err))\n"
     ]
    },
    {
     "name": "stdout",
     "output_type": "stream",
     "text": [
      "Episode: 1, Score:2.0\n",
      "Episode: 2, Score:4.0\n",
      "Episode: 3, Score:1.0\n",
      "Episode: 4, Score:1.0\n",
      "Episode: 5, Score:6.0\n",
      "Episode: 6, Score:2.0\n",
      "Episode: 7, Score:1.0\n",
      "Episode: 8, Score:1.0\n",
      "Episode: 9, Score:3.0\n",
      "Episode: 10, Score:1.0\n",
      "Episode: 11, Score:1.0\n",
      "Episode: 12, Score:4.0\n",
      "Episode: 13, Score:3.0\n",
      "Episode: 14, Score:1.0\n",
      "Episode: 15, Score:5.0\n",
      "Episode: 16, Score:1.0\n",
      "Episode: 17, Score:8.0\n",
      "Episode: 18, Score:3.0\n",
      "Episode: 19, Score:2.0\n",
      "Episode: 20, Score:3.0\n",
      "Episode: 21, Score:8.0\n",
      "Episode: 22, Score:2.0\n",
      "Episode: 23, Score:1.0\n",
      "Episode: 24, Score:0.0\n",
      "Episode: 25, Score:9.0\n",
      "Episode: 26, Score:0.0\n",
      "Episode: 27, Score:3.0\n",
      "Episode: 28, Score:1.0\n",
      "Episode: 29, Score:3.0\n",
      "Episode: 30, Score:0.0\n",
      "Episode: 31, Score:0.0\n",
      "Episode: 32, Score:0.0\n",
      "Episode: 33, Score:1.0\n",
      "Episode: 34, Score:2.0\n",
      "Episode: 35, Score:1.0\n",
      "Episode: 36, Score:2.0\n",
      "Episode: 37, Score:3.0\n",
      "Episode: 38, Score:1.0\n",
      "Episode: 39, Score:1.0\n",
      "Episode: 40, Score:1.0\n",
      "Episode: 41, Score:2.0\n",
      "Episode: 42, Score:0.0\n",
      "Episode: 43, Score:3.0\n",
      "Episode: 44, Score:3.0\n",
      "Episode: 45, Score:0.0\n",
      "Episode: 46, Score:0.0\n",
      "Episode: 47, Score:1.0\n",
      "Episode: 48, Score:2.0\n",
      "Episode: 49, Score:0.0\n",
      "Episode: 50, Score:1.0\n",
      "Episode: 51, Score:0.0\n",
      "Episode: 52, Score:2.0\n",
      "Episode: 53, Score:3.0\n",
      "Episode: 54, Score:1.0\n",
      "Episode: 55, Score:1.0\n",
      "Episode: 56, Score:2.0\n",
      "Episode: 57, Score:2.0\n",
      "Episode: 58, Score:2.0\n",
      "Episode: 59, Score:4.0\n",
      "Episode: 60, Score:0.0\n",
      "Episode: 61, Score:0.0\n",
      "Episode: 62, Score:0.0\n",
      "Episode: 63, Score:2.0\n",
      "Episode: 64, Score:0.0\n",
      "Episode: 65, Score:0.0\n",
      "Episode: 66, Score:0.0\n",
      "Episode: 67, Score:2.0\n",
      "Episode: 68, Score:3.0\n",
      "Episode: 69, Score:2.0\n",
      "Episode: 70, Score:1.0\n",
      "Episode: 71, Score:2.0\n",
      "Episode: 72, Score:3.0\n",
      "Episode: 73, Score:1.0\n",
      "Episode: 74, Score:0.0\n",
      "Episode: 75, Score:0.0\n",
      "Episode: 76, Score:1.0\n",
      "Episode: 77, Score:4.0\n",
      "Episode: 78, Score:2.0\n",
      "Episode: 79, Score:1.0\n",
      "Episode: 80, Score:1.0\n",
      "Episode: 81, Score:3.0\n",
      "Episode: 82, Score:0.0\n",
      "Episode: 83, Score:1.0\n",
      "Episode: 84, Score:1.0\n",
      "Episode: 85, Score:1.0\n",
      "Episode: 86, Score:2.0\n",
      "Episode: 87, Score:2.0\n",
      "Episode: 88, Score:0.0\n",
      "Episode: 89, Score:0.0\n",
      "Episode: 90, Score:1.0\n",
      "Episode: 91, Score:1.0\n",
      "Episode: 92, Score:0.0\n",
      "Episode: 93, Score:1.0\n",
      "Episode: 94, Score:0.0\n",
      "Episode: 95, Score:1.0\n",
      "Episode: 96, Score:0.0\n",
      "Episode: 97, Score:0.0\n",
      "Episode: 98, Score:2.0\n",
      "Episode: 99, Score:1.0\n",
      "Episode: 100, Score:2.0\n"
     ]
    }
   ],
   "source": [
    "episodes = 5  # think of it as one episode of full game\n",
    "for episode in range(1,episodes+1):\n",
    "    obs = env.reset()  # reset the agent , action , environment , obsevation , rewards\n",
    "    done = False\n",
    "    score = 0\n",
    "    \n",
    "    while not done:\n",
    "        env.render()\n",
    "        action = env.action_space.sample()  # return random value between (0,1)\n",
    "        obs,reward , done,info = env.step(action)\n",
    "        score += reward\n",
    "        \n",
    "        # print(f\"Action: {action} ,Score: {score} >> Other Infos: n_state {n_state},Reward {reward},Done {done}\")\n",
    "    print(f'Episode: {episode}, Score:{score}')"
   ]
  },
  {
   "cell_type": "code",
   "execution_count": 6,
   "metadata": {},
   "outputs": [],
   "source": [
    "env.close()"
   ]
  },
  {
   "attachments": {},
   "cell_type": "markdown",
   "metadata": {},
   "source": [
    "## 3. Vectorise Environment and Train Model\n",
    "Train more than one Environment at the same time"
   ]
  },
  {
   "cell_type": "code",
   "execution_count": 7,
   "metadata": {},
   "outputs": [
    {
     "data": {
      "text/plain": [
       "array([[[[0, 0, 0, 0],\n",
       "         [0, 0, 0, 0],\n",
       "         [0, 0, 0, 0],\n",
       "         ...,\n",
       "         [0, 0, 0, 0],\n",
       "         [0, 0, 0, 0],\n",
       "         [0, 0, 0, 0]],\n",
       "\n",
       "        [[0, 0, 0, 0],\n",
       "         [0, 0, 0, 0],\n",
       "         [0, 0, 0, 0],\n",
       "         ...,\n",
       "         [0, 0, 0, 0],\n",
       "         [0, 0, 0, 0],\n",
       "         [0, 0, 0, 0]],\n",
       "\n",
       "        [[0, 0, 0, 0],\n",
       "         [0, 0, 0, 0],\n",
       "         [0, 0, 0, 0],\n",
       "         ...,\n",
       "         [0, 0, 0, 0],\n",
       "         [0, 0, 0, 0],\n",
       "         [0, 0, 0, 0]],\n",
       "\n",
       "        ...,\n",
       "\n",
       "        [[0, 0, 0, 0],\n",
       "         [0, 0, 0, 0],\n",
       "         [0, 0, 0, 0],\n",
       "         ...,\n",
       "         [0, 0, 0, 0],\n",
       "         [0, 0, 0, 0],\n",
       "         [0, 0, 0, 0]],\n",
       "\n",
       "        [[0, 0, 0, 0],\n",
       "         [0, 0, 0, 0],\n",
       "         [0, 0, 0, 0],\n",
       "         ...,\n",
       "         [0, 0, 0, 0],\n",
       "         [0, 0, 0, 0],\n",
       "         [0, 0, 0, 0]],\n",
       "\n",
       "        [[0, 0, 0, 0],\n",
       "         [0, 0, 0, 0],\n",
       "         [0, 0, 0, 0],\n",
       "         ...,\n",
       "         [0, 0, 0, 0],\n",
       "         [0, 0, 0, 0],\n",
       "         [0, 0, 0, 0]]],\n",
       "\n",
       "\n",
       "       [[[0, 0, 0, 0],\n",
       "         [0, 0, 0, 0],\n",
       "         [0, 0, 0, 0],\n",
       "         ...,\n",
       "         [0, 0, 0, 0],\n",
       "         [0, 0, 0, 0],\n",
       "         [0, 0, 0, 0]],\n",
       "\n",
       "        [[0, 0, 0, 0],\n",
       "         [0, 0, 0, 0],\n",
       "         [0, 0, 0, 0],\n",
       "         ...,\n",
       "         [0, 0, 0, 0],\n",
       "         [0, 0, 0, 0],\n",
       "         [0, 0, 0, 0]],\n",
       "\n",
       "        [[0, 0, 0, 0],\n",
       "         [0, 0, 0, 0],\n",
       "         [0, 0, 0, 0],\n",
       "         ...,\n",
       "         [0, 0, 0, 0],\n",
       "         [0, 0, 0, 0],\n",
       "         [0, 0, 0, 0]],\n",
       "\n",
       "        ...,\n",
       "\n",
       "        [[0, 0, 0, 0],\n",
       "         [0, 0, 0, 0],\n",
       "         [0, 0, 0, 0],\n",
       "         ...,\n",
       "         [0, 0, 0, 0],\n",
       "         [0, 0, 0, 0],\n",
       "         [0, 0, 0, 0]],\n",
       "\n",
       "        [[0, 0, 0, 0],\n",
       "         [0, 0, 0, 0],\n",
       "         [0, 0, 0, 0],\n",
       "         ...,\n",
       "         [0, 0, 0, 0],\n",
       "         [0, 0, 0, 0],\n",
       "         [0, 0, 0, 0]],\n",
       "\n",
       "        [[0, 0, 0, 0],\n",
       "         [0, 0, 0, 0],\n",
       "         [0, 0, 0, 0],\n",
       "         ...,\n",
       "         [0, 0, 0, 0],\n",
       "         [0, 0, 0, 0],\n",
       "         [0, 0, 0, 0]]],\n",
       "\n",
       "\n",
       "       [[[0, 0, 0, 0],\n",
       "         [0, 0, 0, 0],\n",
       "         [0, 0, 0, 0],\n",
       "         ...,\n",
       "         [0, 0, 0, 0],\n",
       "         [0, 0, 0, 0],\n",
       "         [0, 0, 0, 0]],\n",
       "\n",
       "        [[0, 0, 0, 0],\n",
       "         [0, 0, 0, 0],\n",
       "         [0, 0, 0, 0],\n",
       "         ...,\n",
       "         [0, 0, 0, 0],\n",
       "         [0, 0, 0, 0],\n",
       "         [0, 0, 0, 0]],\n",
       "\n",
       "        [[0, 0, 0, 0],\n",
       "         [0, 0, 0, 0],\n",
       "         [0, 0, 0, 0],\n",
       "         ...,\n",
       "         [0, 0, 0, 0],\n",
       "         [0, 0, 0, 0],\n",
       "         [0, 0, 0, 0]],\n",
       "\n",
       "        ...,\n",
       "\n",
       "        [[0, 0, 0, 0],\n",
       "         [0, 0, 0, 0],\n",
       "         [0, 0, 0, 0],\n",
       "         ...,\n",
       "         [0, 0, 0, 0],\n",
       "         [0, 0, 0, 0],\n",
       "         [0, 0, 0, 0]],\n",
       "\n",
       "        [[0, 0, 0, 0],\n",
       "         [0, 0, 0, 0],\n",
       "         [0, 0, 0, 0],\n",
       "         ...,\n",
       "         [0, 0, 0, 0],\n",
       "         [0, 0, 0, 0],\n",
       "         [0, 0, 0, 0]],\n",
       "\n",
       "        [[0, 0, 0, 0],\n",
       "         [0, 0, 0, 0],\n",
       "         [0, 0, 0, 0],\n",
       "         ...,\n",
       "         [0, 0, 0, 0],\n",
       "         [0, 0, 0, 0],\n",
       "         [0, 0, 0, 0]]],\n",
       "\n",
       "\n",
       "       [[[0, 0, 0, 0],\n",
       "         [0, 0, 0, 0],\n",
       "         [0, 0, 0, 0],\n",
       "         ...,\n",
       "         [0, 0, 0, 0],\n",
       "         [0, 0, 0, 0],\n",
       "         [0, 0, 0, 0]],\n",
       "\n",
       "        [[0, 0, 0, 0],\n",
       "         [0, 0, 0, 0],\n",
       "         [0, 0, 0, 0],\n",
       "         ...,\n",
       "         [0, 0, 0, 0],\n",
       "         [0, 0, 0, 0],\n",
       "         [0, 0, 0, 0]],\n",
       "\n",
       "        [[0, 0, 0, 0],\n",
       "         [0, 0, 0, 0],\n",
       "         [0, 0, 0, 0],\n",
       "         ...,\n",
       "         [0, 0, 0, 0],\n",
       "         [0, 0, 0, 0],\n",
       "         [0, 0, 0, 0]],\n",
       "\n",
       "        ...,\n",
       "\n",
       "        [[0, 0, 0, 0],\n",
       "         [0, 0, 0, 0],\n",
       "         [0, 0, 0, 0],\n",
       "         ...,\n",
       "         [0, 0, 0, 0],\n",
       "         [0, 0, 0, 0],\n",
       "         [0, 0, 0, 0]],\n",
       "\n",
       "        [[0, 0, 0, 0],\n",
       "         [0, 0, 0, 0],\n",
       "         [0, 0, 0, 0],\n",
       "         ...,\n",
       "         [0, 0, 0, 0],\n",
       "         [0, 0, 0, 0],\n",
       "         [0, 0, 0, 0]],\n",
       "\n",
       "        [[0, 0, 0, 0],\n",
       "         [0, 0, 0, 0],\n",
       "         [0, 0, 0, 0],\n",
       "         ...,\n",
       "         [0, 0, 0, 0],\n",
       "         [0, 0, 0, 0],\n",
       "         [0, 0, 0, 0]]]], dtype=uint8)"
      ]
     },
     "execution_count": 7,
     "metadata": {},
     "output_type": "execute_result"
    }
   ],
   "source": [
    "env = make_atari_env('Breakout-v0' , n_envs= 4 ,seed = 0)\n",
    "env = VecFrameStack(env,n_stack = 4)\n",
    "env.reset()"
   ]
  },
  {
   "cell_type": "code",
   "execution_count": 8,
   "metadata": {},
   "outputs": [],
   "source": [
    "env.render()"
   ]
  },
  {
   "cell_type": "code",
   "execution_count": 9,
   "metadata": {},
   "outputs": [
    {
     "name": "stdout",
     "output_type": "stream",
     "text": [
      "Using cuda device\n",
      "Wrapping the env in a VecTransposeImage.\n"
     ]
    }
   ],
   "source": [
    "# Creating the model to start Training\n",
    "log_path = os.path.join(\"Training\",\"Logs\")\n",
    "model = A2C('CnnPolicy', env , verbose = 1,tensorboard_log = log_path)"
   ]
  },
  {
   "cell_type": "code",
   "execution_count": 10,
   "metadata": {},
   "outputs": [
    {
     "name": "stdout",
     "output_type": "stream",
     "text": [
      "Logging to Training\\Logs\\A2C_1\n"
     ]
    },
    {
     "data": {
      "text/plain": [
       "<stable_baselines3.a2c.a2c.A2C at 0x19bf39c1940>"
      ]
     },
     "execution_count": 10,
     "metadata": {},
     "output_type": "execute_result"
    }
   ],
   "source": [
    "# Training \n",
    "model.learn(total_timesteps = 100)"
   ]
  },
  {
   "attachments": {},
   "cell_type": "markdown",
   "metadata": {},
   "source": [
    "## 4. Save and Reload Model"
   ]
  },
  {
   "cell_type": "code",
   "execution_count": 11,
   "metadata": {},
   "outputs": [],
   "source": [
    "# Saving the model\n",
    "a2c_path = os.path.join(\"Training\",\"Saved Models\",\"A2C_Breakout_Model\")\n",
    "model.save(a2c_path)"
   ]
  },
  {
   "cell_type": "code",
   "execution_count": 12,
   "metadata": {},
   "outputs": [],
   "source": [
    "# Reloading the model\n",
    "del model"
   ]
  },
  {
   "cell_type": "code",
   "execution_count": 13,
   "metadata": {},
   "outputs": [
    {
     "name": "stdout",
     "output_type": "stream",
     "text": [
      "Wrapping the env in a VecTransposeImage.\n"
     ]
    }
   ],
   "source": [
    "model = A2C.load(a2c_path,env)"
   ]
  },
  {
   "cell_type": "markdown",
   "metadata": {},
   "source": [
    "# 5. Evaluete and Test"
   ]
  },
  {
   "cell_type": "code",
   "execution_count": 17,
   "metadata": {},
   "outputs": [],
   "source": [
    "env = make_atari_env('Breakout-v0' , n_envs= 1 ,seed = 0 )\n",
    "env = VecFrameStack(env,n_stack = 4)"
   ]
  },
  {
   "cell_type": "code",
   "execution_count": 18,
   "metadata": {},
   "outputs": [
    {
     "name": "stderr",
     "output_type": "stream",
     "text": [
      "d:\\Src\\Anaconda\\lib\\site-packages\\gym\\envs\\atari\\environment.py:267: UserWarning: \u001b[33mWARN: We strongly suggest supplying `render_mode` when constructing your environment, e.g., gym.make(ID, render_mode='human'). Using `render_mode` provides access to proper scaling, audio support, and proper framerates.\u001b[0m\n",
      "  logger.warn(\n"
     ]
    },
    {
     "data": {
      "text/plain": [
       "(1.2, 0.8717797887081347)"
      ]
     },
     "execution_count": 18,
     "metadata": {},
     "output_type": "execute_result"
    },
    {
     "ename": "",
     "evalue": "",
     "output_type": "error",
     "traceback": [
      "\u001b[1;31mThe Kernel crashed while executing code in the the current cell or a previous cell. Please review the code in the cell(s) to identify a possible cause of the failure. Click <a href='https://aka.ms/vscodeJupyterKernelCrash'>here</a> for more info. View Jupyter <a href='command:jupyter.viewOutput'>log</a> for further details."
     ]
    }
   ],
   "source": [
    "evaluate_policy(model,env,n_eval_episodes=10,render=True)"
   ]
  },
  {
   "attachments": {},
   "cell_type": "markdown",
   "metadata": {},
   "source": [
    "> Just train the model for longer and you will get much better Performance "
   ]
  }
 ],
 "metadata": {
  "kernelspec": {
   "display_name": "base",
   "language": "python",
   "name": "python3"
  },
  "language_info": {
   "codemirror_mode": {
    "name": "ipython",
    "version": 3
   },
   "file_extension": ".py",
   "mimetype": "text/x-python",
   "name": "python",
   "nbconvert_exporter": "python",
   "pygments_lexer": "ipython3",
   "version": "3.8.16"
  },
  "orig_nbformat": 4
 },
 "nbformat": 4,
 "nbformat_minor": 2
}
